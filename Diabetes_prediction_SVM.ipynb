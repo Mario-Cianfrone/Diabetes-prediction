{
  "cells": [
    {
      "cell_type": "code",
      "execution_count": null,
      "metadata": {
        "id": "TfbtbSTBwlqq"
      },
      "outputs": [],
      "source": [
        "library(ggplot2)\n",
        "df <- read.csv(file = \"/content/final_df.csv\", header = TRUE, sep = \",\")"
      ]
    },
    {
      "cell_type": "code",
      "execution_count": null,
      "metadata": {
        "colab": {
          "base_uri": "https://localhost:8080/"
        },
        "id": "4LRNGF5OzsUH",
        "outputId": "1bcdf4a2-0821-4abb-92f6-ecd6fc5b7a2e"
      },
      "outputs": [
        {
          "output_type": "stream",
          "name": "stdout",
          "text": [
            "'data.frame':\t70692 obs. of  20 variables:\n",
            " $ Diabetes_binary     : int  0 0 0 0 0 0 0 0 0 0 ...\n",
            " $ HighBP              : int  0 1 1 1 1 1 1 0 1 0 ...\n",
            " $ HighChol            : int  0 1 0 1 0 1 1 0 0 0 ...\n",
            " $ CholCheck           : int  1 1 1 1 1 1 1 1 1 1 ...\n",
            " $ BMI                 : int  18 24 27 16 14 15 9 17 25 13 ...\n",
            " $ Smoker              : int  0 1 0 0 1 1 1 1 1 0 ...\n",
            " $ Stroke              : int  0 0 0 0 0 0 0 0 0 0 ...\n",
            " $ HeartDiseaseorAttack: int  0 0 0 0 0 1 0 0 0 0 ...\n",
            " $ PhysActivity        : int  1 0 1 1 1 1 1 1 1 1 ...\n",
            " $ Veggies             : int  1 0 1 1 1 1 1 1 1 1 ...\n",
            " $ HvyAlcoholConsump   : int  0 0 0 0 0 0 0 0 0 0 ...\n",
            " $ AnyHealthcare       : int  1 0 1 1 1 1 1 1 1 1 ...\n",
            " $ GenHlth             : int  1 3 2 2 4 4 4 2 2 2 ...\n",
            " $ MentHlth            : int  3 21 1 1 3 1 1 1 1 1 ...\n",
            " $ PhysHlth            : int  1 4 2 1 21 6 1 1 11 1 ...\n",
            " $ DiffWalk            : int  0 0 0 0 1 0 0 0 0 0 ...\n",
            " $ Sex                 : int  1 0 0 1 0 0 0 1 1 0 ...\n",
            " $ Age                 : int  6 5 7 11 11 8 11 5 5 9 ...\n",
            " $ Education           : int  6 5 5 6 4 2 6 5 4 6 ...\n",
            " $ Income              : int  8 1 6 7 5 3 5 8 8 8 ...\n"
          ]
        }
      ],
      "source": [
        "str(df)"
      ]
    },
    {
      "cell_type": "code",
      "execution_count": null,
      "metadata": {
        "colab": {
          "base_uri": "https://localhost:8080/"
        },
        "id": "s0DDJ0sOzx7H",
        "outputId": "596273c2-03c5-4e18-b47e-b1ff1a1cc422"
      },
      "outputs": [
        {
          "output_type": "stream",
          "name": "stdout",
          "text": [
            "'data.frame':\t70692 obs. of  20 variables:\n",
            " $ Diabetes_binary     : Factor w/ 2 levels \"0\",\"1\": 1 1 1 1 1 1 1 1 1 1 ...\n",
            " $ HighBP              : Factor w/ 2 levels \"0\",\"1\": 1 2 2 2 2 2 2 1 2 1 ...\n",
            " $ HighChol            : Factor w/ 2 levels \"0\",\"1\": 1 2 1 2 1 2 2 1 1 1 ...\n",
            " $ CholCheck           : Factor w/ 2 levels \"0\",\"1\": 2 2 2 2 2 2 2 2 2 2 ...\n",
            " $ BMI                 : int  18 24 27 16 14 15 9 17 25 13 ...\n",
            " $ Smoker              : Factor w/ 2 levels \"0\",\"1\": 1 2 1 1 2 2 2 2 2 1 ...\n",
            " $ Stroke              : Factor w/ 2 levels \"0\",\"1\": 1 1 1 1 1 1 1 1 1 1 ...\n",
            " $ HeartDiseaseorAttack: Factor w/ 2 levels \"0\",\"1\": 1 1 1 1 1 2 1 1 1 1 ...\n",
            " $ PhysActivity        : Factor w/ 2 levels \"0\",\"1\": 2 1 2 2 2 2 2 2 2 2 ...\n",
            " $ Veggies             : Factor w/ 2 levels \"0\",\"1\": 2 1 2 2 2 2 2 2 2 2 ...\n",
            " $ HvyAlcoholConsump   : Factor w/ 2 levels \"0\",\"1\": 1 1 1 1 1 1 1 1 1 1 ...\n",
            " $ AnyHealthcare       : Factor w/ 2 levels \"0\",\"1\": 2 1 2 2 2 2 2 2 2 2 ...\n",
            " $ GenHlth             : Factor w/ 5 levels \"1\",\"2\",\"3\",\"4\",..: 1 3 2 2 4 4 4 2 2 2 ...\n",
            " $ MentHlth            : int  3 21 1 1 3 1 1 1 1 1 ...\n",
            " $ PhysHlth            : int  1 4 2 1 21 6 1 1 11 1 ...\n",
            " $ DiffWalk            : Factor w/ 2 levels \"0\",\"1\": 1 1 1 1 2 1 1 1 1 1 ...\n",
            " $ Sex                 : Factor w/ 2 levels \"0\",\"1\": 2 1 1 2 1 1 1 2 2 1 ...\n",
            " $ Age                 : Factor w/ 13 levels \"1\",\"2\",\"3\",\"4\",..: 6 5 7 11 11 8 11 5 5 9 ...\n",
            " $ Education           : Factor w/ 6 levels \"1\",\"2\",\"3\",\"4\",..: 6 5 5 6 4 2 6 5 4 6 ...\n",
            " $ Income              : Factor w/ 8 levels \"1\",\"2\",\"3\",\"4\",..: 8 1 6 7 5 3 5 8 8 8 ...\n"
          ]
        }
      ],
      "source": [
        "df[, c(\"Diabetes_binary\", \"HighBP\", \"HighChol\", \"CholCheck\", \"Smoker\", \"Stroke\", \"HeartDiseaseorAttack\", \"PhysActivity\", \"Veggies\", \"HvyAlcoholConsump\", \"AnyHealthcare\", \"GenHlth\", \"DiffWalk\", \"Sex\", \"Age\", \"Education\", \"Income\")] <- lapply(df[, c(\"Diabetes_binary\", \"HighBP\", \"HighChol\", \"CholCheck\", \"Smoker\", \"Stroke\", \"HeartDiseaseorAttack\", \"PhysActivity\", \"Veggies\", \"HvyAlcoholConsump\", \"AnyHealthcare\", \"GenHlth\", \"DiffWalk\", \"Sex\", \"Age\", \"Education\", \"Income\")], as.factor)\n",
        "str(df)"
      ]
    },
    {
      "cell_type": "code",
      "execution_count": null,
      "metadata": {
        "id": "vSaUZ6WJ2JD1"
      },
      "outputs": [],
      "source": [
        "# install the kernlab (for SVM)\n",
        "if(require(kernlab) == FALSE){\n",
        "  install.packages('kernlab')\n",
        "  library(kernlab)\n",
        "}"
      ]
    },
    {
      "cell_type": "markdown",
      "metadata": {
        "id": "KxMFNgIr2ksB"
      },
      "source": [
        "## Data preparation"
      ]
    },
    {
      "cell_type": "code",
      "execution_count": null,
      "metadata": {
        "id": "8suTgF3m2eGm"
      },
      "outputs": [],
      "source": [
        "### create a 70/30 training/test set split\n",
        "### set the random seed to 2018\n",
        "set.seed(2018)\n",
        "n_rows <- nrow(df)\n",
        "training_idx <- sample(n_rows, n_rows * 0.7)\n",
        "training_df<- df[training_idx,]\n",
        "test_df <- df[-training_idx,]"
      ]
    },
    {
      "cell_type": "markdown",
      "metadata": {
        "id": "uSXrvGXa2mY3"
      },
      "source": [
        "## SVM training"
      ]
    },
    {
      "cell_type": "code",
      "execution_count": null,
      "metadata": {
        "id": "VTulKmOD2h77"
      },
      "outputs": [],
      "source": [
        "df_formula <- reformulate(names(training_df[, -1]), response = 'Diabetes_binary')\n",
        "### train with SVM (I chose cost and kernel function)\n",
        "svm_df <- ksvm(df_formula, data = training_df, kernel = 'rbfdot', C = 1, prob.model = TRUE)"
      ]
    },
    {
      "cell_type": "markdown",
      "metadata": {
        "id": "0ZjgIn_E98eE"
      },
      "source": [
        "## SVM prediction"
      ]
    },
    {
      "cell_type": "code",
      "execution_count": null,
      "metadata": {
        "colab": {
          "base_uri": "https://localhost:8080/",
          "height": 86
        },
        "id": "YiHKLU2R5vB1",
        "outputId": "2e1cae5a-2b03-4837-d288-9c15e22c3ec6"
      },
      "outputs": [
        {
          "output_type": "display_data",
          "data": {
            "text/plain": [
              "   actual\n",
              "svm    0    1\n",
              "  0 7390 2159\n",
              "  1 3163 8496"
            ]
          },
          "metadata": {}
        }
      ],
      "source": [
        "### compute the prediction for the test set with the SVM model\n",
        "svm_df_pred <- predict(svm_df, test_df[,-1], type= \"response\")\n",
        "### create a table with actual and predicted values\n",
        "svm_table <- table(svm = svm_df_pred,  actual = test_df$Diabetes_binary)\n",
        "svm_table"
      ]
    },
    {
      "cell_type": "code",
      "execution_count": null,
      "metadata": {
        "colab": {
          "base_uri": "https://localhost:8080/",
          "height": 34
        },
        "id": "BraHugVbAXwv",
        "outputId": "20ab5eb5-b574-45bd-9d30-7c2262802fd8"
      },
      "outputs": [
        {
          "output_type": "display_data",
          "data": {
            "text/html": [
              "0.749056959637873"
            ],
            "text/markdown": "0.749056959637873",
            "text/latex": "0.749056959637873",
            "text/plain": [
              "[1] 0.749057"
            ]
          },
          "metadata": {}
        }
      ],
      "source": [
        "### Calculate accuracy values from the contingency tables\n",
        "acc_svm_results <- sum(diag(svm_table)) / sum(svm_table)\n",
        "acc_svm_results"
      ]
    },
    {
      "cell_type": "markdown",
      "metadata": {
        "id": "JePiATsbFlc_"
      },
      "source": [
        "## Performance evaluation"
      ]
    },
    {
      "cell_type": "code",
      "execution_count": null,
      "metadata": {
        "id": "pg6bFZKAFm9k"
      },
      "outputs": [],
      "source": [
        "#  combine actual, predicted and probability prediction in a data frame\n",
        "perf_eval <-  cbind(\n",
        "  actual = test_df$Diabetes_binary,\n",
        "  predicted = svm_df_pred,\n",
        "  as.data.frame(predict(svm_df, test_df[,-1], type = 'prob'))\n",
        ")"
      ]
    },
    {
      "cell_type": "code",
      "execution_count": null,
      "metadata": {
        "id": "SN9vckVru0ig"
      },
      "outputs": [],
      "source": [
        "install.packages(\"yardstick\")\n",
        "install.packages(\"caret\")\n",
        "library(yardstick)\n",
        "library(caret)"
      ]
    },
    {
      "cell_type": "code",
      "execution_count": null,
      "metadata": {
        "colab": {
          "base_uri": "https://localhost:8080/",
          "height": 486
        },
        "id": "VMLrRDVQ0o7g",
        "outputId": "f27d6055-5df6-40bf-a13e-2111aeb7bf36"
      },
      "outputs": [
        {
          "output_type": "display_data",
          "data": {
            "text/plain": [
              "Confusion Matrix and Statistics\n",
              "\n",
              "          Reference\n",
              "Prediction    0    1\n",
              "         0 7390 2159\n",
              "         1 3163 8496\n",
              "                                          \n",
              "               Accuracy : 0.7491          \n",
              "                 95% CI : (0.7432, 0.7549)\n",
              "    No Information Rate : 0.5024          \n",
              "    P-Value [Acc > NIR] : < 2.2e-16       \n",
              "                                          \n",
              "                  Kappa : 0.4979          \n",
              "                                          \n",
              " Mcnemar's Test P-Value : < 2.2e-16       \n",
              "                                          \n",
              "            Sensitivity : 0.7974          \n",
              "            Specificity : 0.7003          \n",
              "         Pos Pred Value : 0.7287          \n",
              "         Neg Pred Value : 0.7739          \n",
              "             Prevalence : 0.5024          \n",
              "         Detection Rate : 0.4006          \n",
              "   Detection Prevalence : 0.5497          \n",
              "      Balanced Accuracy : 0.7488          \n",
              "                                          \n",
              "       'Positive' Class : 1               \n",
              "                                          "
            ]
          },
          "metadata": {}
        }
      ],
      "source": [
        "# generate a confusion matrix for the predicted model\n",
        "#   returns also Accuracy, Kappa, Sensitivity and Specificity\n",
        "#    the positive class has been explicitly declared as the second one e therefore with \"1\"\n",
        "\n",
        "conf_matrix <- confusionMatrix(data = perf_eval$predicted, reference = perf_eval$actual, positive = \"1\")\n",
        "conf_matrix\n",
        "\n"
      ]
    },
    {
      "cell_type": "code",
      "source": [
        "TP <- 7390\n",
        "TN <- 8496\n",
        "FP <- 2159\n",
        "FN <- 3163\n",
        "sensitivity = 0.7974\n",
        "\n",
        "# Precision / Positive Predictive Value (PPV)\n",
        "precision <- TP / (TP + FP)\n",
        "cat(\"Precision / Positive Predictive Value (PPV):\", precision, \"\\n\")\n",
        "\n",
        "# F1 Score\n",
        "f1_score <- 2 * (precision * sensitivity) / (precision + sensitivity)\n",
        "cat(\"F1 Score:\", f1_score, \"\\n\")"
      ],
      "metadata": {
        "colab": {
          "base_uri": "https://localhost:8080/"
        },
        "id": "YGsIVBbtblSB",
        "outputId": "42a4c28a-345e-467a-87d7-9205c9640808"
      },
      "execution_count": null,
      "outputs": [
        {
          "output_type": "stream",
          "name": "stdout",
          "text": [
            "Precision / Positive Predictive Value (PPV): 0.773903 \n",
            "F1 Score: 0.7854758 \n"
          ]
        }
      ]
    },
    {
      "cell_type": "code",
      "execution_count": null,
      "metadata": {
        "id": "B1PXB65L9063"
      },
      "outputs": [],
      "source": [
        "###  prepare two data frames to generate a ROC curve:\n",
        "#   a data frame with the probability scores for the prediction of \"1\"\n",
        "#   a data frame with the TRUE for actual values equal to \"1\"\n",
        "model_prob <- data.frame(\n",
        "  svm_col = perf_eval[,4]\n",
        ")\n",
        "label <- data.frame(\n",
        "  svm_col = perf_eval$actual == \"1\"\n",
        ")\n"
      ]
    },
    {
      "cell_type": "markdown",
      "metadata": {
        "id": "GANA2Fm3dlBt"
      },
      "source": [
        "##ROC curve"
      ]
    },
    {
      "cell_type": "code",
      "execution_count": null,
      "metadata": {
        "id": "99H6fat9dpHA",
        "colab": {
          "base_uri": "https://localhost:8080/",
          "height": 489
        },
        "outputId": "8b493cdf-3951-4a52-85b4-622b929ae4fb"
      },
      "outputs": [
        {
          "output_type": "stream",
          "name": "stderr",
          "text": [
            "Installing package into ‘/usr/local/lib/R/site-library’\n",
            "(as ‘lib’ is unspecified)\n",
            "\n"
          ]
        },
        {
          "output_type": "display_data",
          "data": {
            "text/plain": [
              "plot without title"
            ],
            "image/png": "[encoded data removed]"
          },
          "metadata": {
            "image/png": {
              "width": 420,
              "height": 420
            }
          }
        }
      ],
      "source": [
        "# ROCR requires to create a prediction and a performance object\n",
        "install.packages(\"ROCR\")\n",
        "library(ROCR)\n",
        "\n",
        "# It is necessary to convert the prediction vector into a continuous vector before using the prediction() function\n",
        "ROC_pred <- prediction(model_prob, label)\n",
        "ROC_perf <- performance(ROC_pred, \"tpr\", \"fpr\")\n",
        "\n",
        "# Plot the ROC curve\n",
        "opar <- par(no.readonly = TRUE)\n",
        "par(pty = 's')\n",
        "plot(\n",
        "  ROC_perf,\n",
        "  col = \"dark orange\"\n",
        ")\n",
        "abline(a = 0, b = 1, lty = 2, col = 'blue')\n",
        "legend(\n",
        "  \"bottomright\",\n",
        "  names(model_prob),\n",
        "  col = \"dark orange\",\n",
        "  lty = 1,\n",
        "  bty = 'n'\n",
        ")\n",
        "\n",
        "\n",
        "\n"
      ]
    },
    {
      "cell_type": "code",
      "execution_count": null,
      "metadata": {
        "colab": {
          "base_uri": "https://localhost:8080/",
          "height": 34
        },
        "id": "PM7BVpDuRj3s",
        "outputId": "82efa073-7119-4488-8308-57b14f687440"
      },
      "outputs": [
        {
          "output_type": "display_data",
          "data": {
            "text/html": [
              "0.81865214056837"
            ],
            "text/markdown": "0.81865214056837",
            "text/latex": "0.81865214056837",
            "text/plain": [
              "[1] 0.8186521"
            ]
          },
          "metadata": {}
        }
      ],
      "source": [
        "#Calculate the AUC value\n",
        "auc <- performance(ROC_pred, measure = \"auc\")@y.values[[1]]\n",
        "auc"
      ]
    }
  ],
  "metadata": {
    "accelerator": "GPU",
    "colab": {
      "provenance": []
    },
    "gpuClass": "standard",
    "kernelspec": {
      "display_name": "R",
      "name": "ir"
    },
    "language_info": {
      "name": "R"
    }
  },
  "nbformat": 4,
  "nbformat_minor": 0
}